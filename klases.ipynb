{
 "cells": [
  {
   "cell_type": "code",
   "execution_count": 1,
   "metadata": {},
   "outputs": [
    {
     "name": "stdout",
     "output_type": "stream",
     "text": [
      "Testas\n"
     ]
    }
   ],
   "source": [
    "print(\"Testas\")"
   ]
  },
  {
   "cell_type": "code",
   "execution_count": 2,
   "metadata": {},
   "outputs": [
    {
     "name": "stdout",
     "output_type": "stream",
     "text": [
      "<class 'str'>\n",
      "<class 'int'>\n",
      "<class 'list'>\n"
     ]
    }
   ],
   "source": [
    "# klases\n",
    "s = \"tekstas\"\n",
    "sk = 7\n",
    "sar = []\n",
    "print(type(s), type(sk), type(sar), sep = '\\n')\n",
    "s.upper()"
   ]
  },
  {
   "cell_type": "code",
   "execution_count": 29,
   "metadata": {},
   "outputs": [],
   "source": [
    "Name = \"Ana\"\n",
    "class Asmuo():\n",
    "    def __init__(self, name):\n",
    "        self.Name = name   # klases atributas( tiesiog kintamasis, esantis klases viduje)\n",
    "        pass\n",
    "\n",
    "    def getName(self):\n",
    "        return self.Name\n",
    "\n",
    "    def setName(self, new_name):\n",
    "        self.Name = new_name\n",
    "        "
   ]
  },
  {
   "cell_type": "code",
   "execution_count": 30,
   "metadata": {},
   "outputs": [
    {
     "name": "stdout",
     "output_type": "stream",
     "text": [
      "<class '__main__.Asmuo'>\n",
      "<class '__main__.Asmuo'>\n"
     ]
    }
   ],
   "source": [
    "a1 = Asmuo('Jana')\n",
    "a2 = Asmuo('Ana')\n",
    "print(type(a1), type(a2), sep = '\\n')"
   ]
  },
  {
   "cell_type": "code",
   "execution_count": 31,
   "metadata": {},
   "outputs": [
    {
     "name": "stdout",
     "output_type": "stream",
     "text": [
      "Jana\n",
      "Vardenis\n"
     ]
    }
   ],
   "source": [
    "print(a1.getName())\n",
    "a1.setName('Vardenis')\n",
    "print(a1.getName())"
   ]
  },
  {
   "cell_type": "code",
   "execution_count": 40,
   "metadata": {},
   "outputs": [],
   "source": [
    "def calculateAge():\n",
    "    return \"Cha!!!\"\n",
    "\n",
    "class Asmuo():\n",
    "    def __init__(self, name, gm):\n",
    "        self.Name = name   # klases atributas( tiesiog kintamasis, esantis klases viduje)\n",
    "        self.BYear = gm\n",
    "        self.Age = self.calculateAge()    # kaip kreiptis i metoda is kito metodo\n",
    "        pass\n",
    "\n",
    "    def getName(self):\n",
    "        return self.Name\n",
    "\n",
    "    def setName(self, new_name):\n",
    "        self.Name = new_name\n",
    "\n",
    "    def calculateAge(self):\n",
    "        return 2024 - self.BYear\n",
    "      "
   ]
  },
  {
   "cell_type": "code",
   "execution_count": 41,
   "metadata": {},
   "outputs": [
    {
     "name": "stdout",
     "output_type": "stream",
     "text": [
      "28 Vardenis\n"
     ]
    }
   ],
   "source": [
    "a1 = Asmuo ('Vardenis', 1996)\n",
    "print(a1.Age, a1.getName())"
   ]
  },
  {
   "cell_type": "code",
   "execution_count": 45,
   "metadata": {},
   "outputs": [],
   "source": [
    "# paveldejimas\n",
    "\n",
    "class Studentas(Asmuo):\n",
    "    def getStatus(self):\n",
    "        return \"Studentas\"\n",
    "\n"
   ]
  },
  {
   "cell_type": "code",
   "execution_count": 46,
   "metadata": {},
   "outputs": [],
   "source": [
    "std1 = Studentas('Une', 1992)"
   ]
  },
  {
   "cell_type": "code",
   "execution_count": 47,
   "metadata": {},
   "outputs": [
    {
     "name": "stdout",
     "output_type": "stream",
     "text": [
      "32 Une\n"
     ]
    }
   ],
   "source": [
    "print(std1.Age, std1.getName())"
   ]
  },
  {
   "cell_type": "code",
   "execution_count": 48,
   "metadata": {},
   "outputs": [
    {
     "data": {
      "text/plain": [
       "'Studentas'"
      ]
     },
     "execution_count": 48,
     "metadata": {},
     "output_type": "execute_result"
    }
   ],
   "source": [
    "std1.getStatus()"
   ]
  },
  {
   "cell_type": "code",
   "execution_count": 51,
   "metadata": {},
   "outputs": [],
   "source": [
    "# sudetingesnis paveldejimo atvejis\n",
    "\n",
    "class Studentas(Asmuo):\n",
    "    def __init__(self, name, gm):\n",
    "        super().__init__(name, gm)\n",
    "        self.Enroll = True\n",
    "\n",
    "std1 = Studentas('Une', 1996)\n"
   ]
  },
  {
   "cell_type": "code",
   "execution_count": 53,
   "metadata": {},
   "outputs": [
    {
     "name": "stdout",
     "output_type": "stream",
     "text": [
      "28 True\n"
     ]
    }
   ],
   "source": [
    "print(std1.Age, std1.Enroll)"
   ]
  },
  {
   "cell_type": "code",
   "execution_count": 70,
   "metadata": {},
   "outputs": [
    {
     "name": "stdout",
     "output_type": "stream",
     "text": [
      "36\n"
     ]
    }
   ],
   "source": [
    "# aprašykite klasę Kvadratas\n",
    "# kreipiantis į klasę, reikia nurodyti kvadrato ilgį a.\n",
    "# Klasė turi turėti atributą Plotas, kurį \n",
    "# turi apskaičiuoti klasės kūrimo metu.\n",
    "# Plotas = a*a\n",
    "# parašykite metodą, kuris grąžintų apskaičiuoto Plotas atributo reikšmę.\n",
    "\n",
    "class Kvadratas():\n",
    "    def __init__(self, a):\n",
    "        self.Plotas = a*a\n",
    "\n",
    "    def apskaiciuoti_plota(self):\n",
    "        return self.Plotas\n",
    "\n",
    "kv = Kvadratas(a=6)\n",
    "print(kv.apskaiciuoti_plota())\n"
   ]
  },
  {
   "cell_type": "code",
   "execution_count": 85,
   "metadata": {},
   "outputs": [
    {
     "name": "stdout",
     "output_type": "stream",
     "text": [
      "Plotas: 6 Perimetras: 10\n"
     ]
    }
   ],
   "source": [
    "# aprašykite klasę Rectangle\n",
    "# kreipiantis į klasę, reikia nurodyti stačiakampio\n",
    "# kraštines a ir b.\n",
    "# Realizuokite atributą Plotas = a*b\n",
    "# ir metodą, grąžinantį Ploto reikšmę\n",
    "# Taip pat pridėkite metodą, apskaičiuojantį ir grąžinantį\n",
    "# perimetrą P=2(a+b)\n",
    "\n",
    "class Rectangle():\n",
    "    def __init__(self, a, b,):\n",
    "        self.Plotas = a*b\n",
    "        self.Perimetras = 2*(a+b)\n",
    "\n",
    "    def apskaiciuoti_plota(self):\n",
    "        return self.Plotas\n",
    "    def apskaiciuti_perimetra(self):\n",
    "        return self.Perimetras\n",
    " \n",
    "    \n",
    "st = Rectangle (a=2, b=3)\n",
    "print(\"Plotas:\", st.apskaiciuoti_plota(), \"Perimetras:\", st.apskaiciuti_perimetra())"
   ]
  },
  {
   "cell_type": "code",
   "execution_count": 98,
   "metadata": {},
   "outputs": [
    {
     "name": "stdout",
     "output_type": "stream",
     "text": [
      "Turis: 24\n"
     ]
    }
   ],
   "source": [
    "# Sukurkite klasę, skirtą geometrinių figūrų parametrų\n",
    "# skaičiavimui:\n",
    "# • Klasė Stačiakampis - sukūrimo metu automatiškai\n",
    "# suskaičiuoja plotą ir perimetrą\n",
    "# • P = 2(a + b), S = ab\n",
    "# • Klasė Kubas - sukūrimo metu turi suskaičiuoti paviršiaus\n",
    "# plotą ir tūrį\n",
    "# • V = abc\n",
    "\n",
    "class Kubas():\n",
    "    def __init__(self, a, b, c):\n",
    "        self.Turis = a*b*c\n",
    "\n",
    "    def apskaiciuoti_plota(self):\n",
    "        return self.Plotas\n",
    "\n",
    "    def apskaiciuoti_turi(self):\n",
    "        return self.Turis\n",
    "    \n",
    "V = Kubas(a=2, b=3, c=4)\n",
    "print(\"Turis:\", V.apskaiciuoti_turi())"
   ]
  },
  {
   "cell_type": "code",
   "execution_count": 97,
   "metadata": {},
   "outputs": [
    {
     "name": "stdout",
     "output_type": "stream",
     "text": [
      "Laba diena\n"
     ]
    }
   ],
   "source": [
    "#susikurkite su Notepadu tekstinį failą su bet kokiu tekstu\n",
    "#parašykite klasę TxtReader, kuriai kreipimosimetu būtų nurodomas tekstinio failo pavadinimas;\n",
    "#klasės sukūrimo metu tas tekstinis failas turi būti nuskaitomas\n",
    "#ir nuskaitytas tekstas turi būti priskirtas atributui Text\n",
    "#parašykite metodą getText(), kuri grąžintų atributo text reikšmę\n",
    "\n",
    "\n",
    "class TxtReader():\n",
    "    def __init__ (self, tekstas):\n",
    "        self.tekstas = tekstas\n",
    "        self.Text = self.nuskaityti_teksta()\n",
    "\n",
    "    def nuskaityti_teksta(self):\n",
    "        with open(self.tekstas, 'r', encoding = 'utf-8') as failas:\n",
    "           return failas.read()\n",
    "        \n",
    "    def getText(self):\n",
    "        return self.Text\n",
    "t = TxtReader('tekstas.txt')\n",
    "print(t.getText())\n",
    "            \n"
   ]
  },
  {
   "cell_type": "code",
   "execution_count": 99,
   "metadata": {},
   "outputs": [],
   "source": [
    "import math"
   ]
  },
  {
   "cell_type": "code",
   "execution_count": 112,
   "metadata": {},
   "outputs": [
    {
     "name": "stdout",
     "output_type": "stream",
     "text": [
      "Plotas: 314.0\n",
      "Turis: 523.3333333333334\n",
      "Naujas plotas: 1256.0\n",
      "Naujas turis: 4186.666666666667\n"
     ]
    }
   ],
   "source": [
    "#Sukurkite klasę Rutulys\n",
    "#kuriai galėtumėte nurodyti Rutulio spindulį r.\n",
    "#Sukurkite metodus, skirtus rasti jo Tūriui ir paviršiaus plotui;\n",
    "#Taip pat metodą, kuriuo jūs pakeistumėte spindulio r reikšmę.\n",
    "\n",
    "class Rutulys():\n",
    "    def __init__ (self, spindulys):\n",
    "        self.spindulys = spindulys\n",
    "\n",
    "    def plotas(self):\n",
    "        return 4 * 3.14 * self.spindulys **2\n",
    "    \n",
    "    def turis (self):\n",
    "        return (4/3) * 3.14 * self.spindulys **3\n",
    "    \n",
    "    def pakeistas_spindulys (self, naujas_spindulys):\n",
    "        self.spindulys = naujas_spindulys\n",
    "\n",
    "rutulys = Rutulys(5)\n",
    "print(\"Plotas:\", rutulys.plotas())\n",
    "print(\"Turis:\", rutulys.turis())\n",
    "\n",
    "rutulys.pakeistas_spindulys(10)\n",
    "\n",
    "print(\"Naujas plotas:\", rutulys.plotas())\n",
    "print(\"Naujas turis:\", rutulys.turis())\n",
    "\n",
    "\n"
   ]
  },
  {
   "cell_type": "code",
   "execution_count": 113,
   "metadata": {},
   "outputs": [
    {
     "name": "stdout",
     "output_type": "stream",
     "text": [
      "1256.0\n",
      "4186.666666666667\n",
      "1808.64\n",
      "7234.5599999999995\n"
     ]
    }
   ],
   "source": [
    "class Rutulys():\n",
    "    def __init__ (self, r):\n",
    "        self.r = r\n",
    "           \n",
    "    def getPav_Plotas(self):\n",
    "        Pav_Plotas = 4*3.14*self.r**2\n",
    "        return Pav_Plotas\n",
    "\n",
    "    def getTūris(self):\n",
    "        Tūris = 4/3*3.14*self.r**3\n",
    "        return Tūris\n",
    "    \n",
    "    def changer(self, new_r):\n",
    "        self.r = new_r\n",
    "        \n",
    "r = int(input(\"Įveskite spindulį r\"))\n",
    "    \n",
    "rutulys  = Rutulys(r)\n",
    "print(rutulys.getPav_Plotas())\n",
    "print(rutulys.getTūris())\n",
    "\n",
    "r = int(input(\"Įveskite spindulį r\"))\n",
    "rutulys.changer(r)\n",
    "\n",
    "print(rutulys.getPav_Plotas())\n",
    "print(rutulys.getTūris())"
   ]
  },
  {
   "cell_type": "code",
   "execution_count": 121,
   "metadata": {},
   "outputs": [
    {
     "name": "stdout",
     "output_type": "stream",
     "text": [
      "Apskritimo plotas: 157.0\n",
      "Apskritimo perimetras: 31.400000000000002\n",
      "Naujas apskritimo plotas: 628.0\n",
      "Naujas apskritimo perimetras: 62.800000000000004\n"
     ]
    }
   ],
   "source": [
    "# #Parašykite klasę Apskritimas, kuriai galite nurodyti apskritimo spindulį r.\n",
    "# Realizuokite du metodus getS ir getP, plotui ir perimetrui gražinti. \n",
    "# #taip pat pridėkite metodą, skirtą spindulio keitimui\n",
    "# P=2*pi*r\n",
    "# S=pi*r^2\n",
    "\n",
    "class Apskritimas():\n",
    "    def __init__ (self, r):\n",
    "        self.r = r\n",
    "    def getS (self):\n",
    "        return 2* 3.14 * self.r ** 2\n",
    "    \n",
    "    def getP (self):\n",
    "        return 2 * 3.14 * self.r\n",
    "    \n",
    "    def change (self, new_r):\n",
    "        self.r = new_r\n",
    "\n",
    "r = int(input(\"Iveskite apskritimo spinduli: \"))\n",
    "apskritimas = Apskritimas(r)\n",
    "print (\"Apskritimo plotas:\", apskritimas.getS())\n",
    "print (\"Apskritimo perimetras:\", apskritimas.getP())\n",
    "\n",
    "new_r = int(input(\"Iveskite nauja apskritimo spinduli: \"))\n",
    "apskritimas.change(new_r)\n",
    "print (\"Naujas apskritimo plotas:\", apskritimas.getS())\n",
    "print (\"Naujas apskritimo perimetras:\", apskritimas.getP())\n",
    "\n",
    "\n"
   ]
  },
  {
   "cell_type": "code",
   "execution_count": 124,
   "metadata": {},
   "outputs": [
    {
     "name": "stdout",
     "output_type": "stream",
     "text": [
      "157.0\n",
      "31.400000000000002\n",
      "628.0\n",
      "62.800000000000004\n"
     ]
    }
   ],
   "source": [
    "#advanced Apskritimas:\n",
    "#padarykite taip, jog klasė Apskritimas turėtų atributus S ir P, plotui ir perimetrui, ir kad atnaujinus spindulį r,\n",
    "#automatiškai pasikeistų S ir P atributų reikšmės, o getS, getP metodai, kaip ir anksčiau grąžintų S ir P atributų reikšmes.\n",
    "\n",
    "class Apskritimas():\n",
    "    def __init__ (self, r):\n",
    "        self.r = r\n",
    "        self.S = 2* 3.14 * r ** 2\n",
    "        self.P = 2 * 3.14 * r\n",
    "    \n",
    "    def getS (self):\n",
    "        return self.S\n",
    "\n",
    "    def getP (self):\n",
    "        return self.P\n",
    "    \n",
    "    def change (self, new_r):\n",
    "        self.r = new_r\n",
    "        self.S = 2* 3.14 *new_r ** 2\n",
    "        self.P = 2 * 3.14 * new_r\n",
    "\n",
    "aps = Apskritimas(5)\n",
    "print(aps.getS())\n",
    "print(aps.getP())\n",
    "\n",
    "aps.change (10)\n",
    "print(aps.getS())\n",
    "print(aps.getP())\n"
   ]
  },
  {
   "cell_type": "code",
   "execution_count": 127,
   "metadata": {},
   "outputs": [
    {
     "name": "stdout",
     "output_type": "stream",
     "text": [
      "31.400000000000002 78.5\n",
      "62.800000000000004 314.0\n"
     ]
    }
   ],
   "source": [
    "class Apskritimas():\n",
    "    def __init__(self, r):\n",
    "        self.R = r\n",
    "        self.S = 0\n",
    "        self.P = 0\n",
    "        self.upadeAll()\n",
    "    \n",
    "    def getP(self):\n",
    "        return self.P\n",
    "    \n",
    "    def getS(self):\n",
    "        return self.S\n",
    "    \n",
    "    def upadeAll(self):\n",
    "        self.S = 3.14*self.R**2\n",
    "        self.P = 2*3.14*self.R\n",
    "        \n",
    "    def change(self, new_r):\n",
    "        self.R = new_r\n",
    "        self.upadeAll()\n",
    "\n",
    "a = Apskritimas(5)\n",
    "print(a.getP(), a.getS())\n",
    "a.change(10)\n",
    "print(a.getP(), a.getS())"
   ]
  },
  {
   "cell_type": "code",
   "execution_count": 134,
   "metadata": {},
   "outputs": [
    {
     "name": "stdout",
     "output_type": "stream",
     "text": [
      "Stačiakampio plotas: 24\n",
      "Stačiakampio perimetras: 20\n",
      "Kubo plotas: 25\n",
      "Kubo perimetras: 20\n",
      "Kubo tūris: 125\n",
      "Piramides plotas: 24\n",
      "Piramides perimetras: 20\n",
      "Piramides tūris: 64.0\n"
     ]
    }
   ],
   "source": [
    "#užduotis su paveldjimu:\n",
    "#parašykite klasę Rectangle, kurioje būtų ilgio ir pločio atributai, bei du metodai - getS - plotui ir getP -perimetrui rasti\n",
    "#Sukurkite išvestinę (child) klasę Kubas, kuri papildomai turėtų Tūrio skaičiavimo metodą\n",
    "#• Klasę Piramidė - išvestinė klasė (child class). \n",
    "# Pridėkite papildomą funkcionalumą - metodą, argumentus piramidės tūrio skaičiavimui.\n",
    "\n",
    "class Rectangle:\n",
    "    def __init__ (self, ilgis, plotis):\n",
    "        self.ilgis = ilgis\n",
    "        self.plotis = plotis\n",
    "    \n",
    "    def getS (self):\n",
    "        return self.ilgis * self.plotis\n",
    "\n",
    "    def getP (self):\n",
    "        return 2* (self.ilgis + self.plotis)\n",
    "    \n",
    "class Kubas (Rectangle):\n",
    "    def __init__ (self, ilgis):\n",
    "        super(). __init__(ilgis, ilgis)\n",
    "\n",
    "    def getT (self):\n",
    "        return self.ilgis**3\n",
    "    \n",
    "class Piramide (Rectangle):\n",
    "    def getT (self, aukstis):\n",
    "        return (self.ilgis * self.plotis * aukstis) / 3\n",
    "        \n",
    "\n",
    "staciakampis = Rectangle(4, 6)\n",
    "print(\"Stačiakampio plotas:\", staciakampis.getS())\n",
    "print(\"Stačiakampio perimetras:\", staciakampis.getP())\n",
    "\n",
    "kubas = Kubas(5)\n",
    "print(\"Kubo plotas:\", kubas.getS())\n",
    "print(\"Kubo perimetras:\", kubas.getP())\n",
    "print(\"Kubo tūris:\", kubas.getT())\n",
    "\n",
    "piramide = Piramide (4, 6)\n",
    "print(\"Piramides plotas:\", piramide.getS())\n",
    "print(\"Piramides perimetras:\", piramide.getP())\n",
    "print(\"Piramides tūris:\", piramide.getT(8))"
   ]
  },
  {
   "cell_type": "code",
   "execution_count": 138,
   "metadata": {},
   "outputs": [
    {
     "name": "stdout",
     "output_type": "stream",
     "text": [
      "Plotas: \n",
      "50\n",
      "Perimetras: \n",
      "30\n",
      "Piramides turis:  10.0\n",
      "Kubo turis:  30\n"
     ]
    }
   ],
   "source": [
    "#užduotis su paveldjimu:\n",
    "#parašykite klasę Rectangle, kurioje būtų ilgio ir pločio atributai, bei du metodai - getS - plotui ir getP -perimetrui rasti\n",
    "#Sukurkite išvestinę (child) klasę Kubas, kuri papildomai turėtų Tūrio skaičiavimo metodą\n",
    "#• Klasę Piramidė - išvestinė klasė (child class). Pridėkite\n",
    "# papildomą funkcionalumą - metodą, argumentus piramidės\n",
    "# tūrio skaičiavimui.\n",
    "class Rectangle():\n",
    "    def __init__(self, a, b): \n",
    "        self.S = a * b\n",
    "        self.P = 2*(a + b)\n",
    "    def getP(self):      \n",
    "        return self.P\n",
    "    def getS(self):      \n",
    "        return self.S\n",
    "figura = Rectangle(a=10, b=5)\n",
    "print(\"Plotas: \", figura.getS(), \"Perimetras: \",figura.getP(), sep = '\\n')\n",
    "\n",
    "class Piramide(Rectangle):\n",
    "    def __init__ (self, a, b, h):\n",
    "        super().__init__(a, b) # cia atkeliavo is Rectangle funkcijos, 9 eilute\n",
    "        self.h = h\n",
    "    def get_piramides_turis(self):\n",
    "        Turis = 1/3*self.S*self.h\n",
    "        return Turis\n",
    "figura = Piramide(a= 2, b=3, h=5)\n",
    "print(\"Piramides turis: \", figura.get_piramides_turis())\n",
    "class Kubas(Rectangle):\n",
    "    def __init__ (self, a, b, h):\n",
    "        super().__init__(a, b) # cia atkeliavo is Rectangle funkcijos, 9 eilute\n",
    "        self.a = h\n",
    "    def getKubo_turis(self):\n",
    "        Turis = self.S*self.a\n",
    "        return Turis\n",
    "figura = Kubas(a= 2, b=5, h= 3)\n",
    "print(\"Kubo turis: \", figura.getKubo_turis())"
   ]
  },
  {
   "cell_type": "code",
   "execution_count": 137,
   "metadata": {},
   "outputs": [
    {
     "ename": "TypeError",
     "evalue": "Vehicle.__init__() takes 3 positional arguments but 4 were given",
     "output_type": "error",
     "traceback": [
      "\u001b[1;31m---------------------------------------------------------------------------\u001b[0m",
      "\u001b[1;31mTypeError\u001b[0m                                 Traceback (most recent call last)",
      "Cell \u001b[1;32mIn[137], line 36\u001b[0m\n\u001b[0;32m     33\u001b[0m     \u001b[38;5;28;01mdef\u001b[39;00m \u001b[38;5;21mGetSeats\u001b[39m(\u001b[38;5;28mself\u001b[39m):\n\u001b[0;32m     34\u001b[0m         \u001b[38;5;28;01mreturn\u001b[39;00m \u001b[38;5;124mf\u001b[39m\u001b[38;5;124m\"\u001b[39m\u001b[38;5;132;01m{\u001b[39;00m\u001b[38;5;28mself\u001b[39m\u001b[38;5;241m.\u001b[39mpavadinimas\u001b[38;5;132;01m}\u001b[39;00m\u001b[38;5;124m turi \u001b[39m\u001b[38;5;132;01m{\u001b[39;00m\u001b[38;5;28mself\u001b[39m\u001b[38;5;241m.\u001b[39mseats\u001b[38;5;132;01m}\u001b[39;00m\u001b[38;5;124m sėdimų vietų.\u001b[39m\u001b[38;5;124m\"\u001b[39m      \n\u001b[1;32m---> 36\u001b[0m car \u001b[38;5;241m=\u001b[39m \u001b[43mCar\u001b[49m\u001b[43m(\u001b[49m\u001b[38;5;124;43m\"\u001b[39;49m\u001b[38;5;124;43mAutomobilis\u001b[39;49m\u001b[38;5;124;43m\"\u001b[39;49m\u001b[43m,\u001b[49m\u001b[43m \u001b[49m\u001b[38;5;241;43m365200\u001b[39;49m\u001b[43m,\u001b[49m\u001b[43m \u001b[49m\u001b[38;5;241;43m5\u001b[39;49m\u001b[43m)\u001b[49m\n\u001b[0;32m     37\u001b[0m bus \u001b[38;5;241m=\u001b[39m Bus(\u001b[38;5;124m\"\u001b[39m\u001b[38;5;124mAutobusas\u001b[39m\u001b[38;5;124m\"\u001b[39m, \u001b[38;5;241m2054684\u001b[39m, \u001b[38;5;241m28\u001b[39m)\n\u001b[0;32m     38\u001b[0m train \u001b[38;5;241m=\u001b[39m Train(\u001b[38;5;124m\"\u001b[39m\u001b[38;5;124mTraukinys\u001b[39m\u001b[38;5;124m\"\u001b[39m, \u001b[38;5;241m526489\u001b[39m, \u001b[38;5;241m200\u001b[39m)\n",
      "\u001b[1;31mTypeError\u001b[0m: Vehicle.__init__() takes 3 positional arguments but 4 were given"
     ]
    }
   ],
   "source": [
    "# #su paveldėjimu:\n",
    "# Sukurkite klasę Vehicle su tokiais atributais - Pavadinimas, Rida\n",
    "# #Sukurkite išvestines klases Car, Bus, Train, kurie paveldėtų viską iš Vehicle, ir papildomai būtų galima\n",
    "# nurodyti Seats - sėdimų vietų skaičių,\n",
    "#ir visi turėtų metoda GetSeats() grąžinantį tekstą: <Pavadinimas> turi <Seats> sėdimų vietų.\n",
    "\n",
    "class Vehicle:\n",
    "    def __init__ (self, pavadinimas, rida):\n",
    "        self.pavadinimas = pavadinimas\n",
    "        self.rida = rida\n",
    "\n",
    "class Car (Vehicle):\n",
    "    def __int__ (self, pavadinimas, rida, seats):\n",
    "        super(). __init__(pavadinimas, rida)\n",
    "        self.seats = seats\n",
    "\n",
    "    def GetSeats (self):\n",
    "        return f\"{self.pavadinimas} turi {self.seats} sedimu vietu.\"\n",
    "    \n",
    "class Bus(Vehicle):\n",
    "    def __init__(self, pavadinimas, rida, seats):\n",
    "        super().__init__(pavadinimas, rida)\n",
    "        self.seats = seats\n",
    "\n",
    "    def GetSeats (self):\n",
    "        return f\"{self.pavadinimas} turi {self.seats} sėdimu vietu.\"\n",
    "    \n",
    "class Train(Vehicle):\n",
    "    def __init__(self, pavadinimas, rida, seats):\n",
    "        super().__init__(pavadinimas, rida)\n",
    "        self.seats = seats  \n",
    "\n",
    "    def GetSeats(self):\n",
    "        return f\"{self.pavadinimas} turi {self.seats} sėdimų vietų.\"      \n",
    "    \n",
    "car = Car(\"Automobilis\", 365200, 5)\n",
    "bus = Bus(\"Autobusas\", 2054684, 28)\n",
    "train = Train(\"Traukinys\", 526489, 200)\n",
    "\n",
    "print(car.GetSeats())\n",
    "print(bus.GetSeats())\n",
    "print(train.GetSeats())\n"
   ]
  },
  {
   "cell_type": "code",
   "execution_count": null,
   "metadata": {},
   "outputs": [],
   "source": [
    "#parašykite klasę TxtAnalyzer, kuriai kreipimosi metu galima būtų nurodyti failo pavadinimą ir stulpelių skirtuką.\n",
    "#klasė sukūrimo metu turi nuskaityti failą, stulpelius skaičių suskirstyti į sąrašus ir juos priskirti atributams X, Y ir Z.\n",
    "#Realizuokite metodus, kurie grąžintų X, Y, Z sąrašų vidurkius, minimalias ir maksimalias vertes. Pythone yra min, max, sum funkcijos;\n",
    "\n"
   ]
  }
 ],
 "metadata": {
  "kernelspec": {
   "display_name": "Python 3",
   "language": "python",
   "name": "python3"
  },
  "language_info": {
   "codemirror_mode": {
    "name": "ipython",
    "version": 3
   },
   "file_extension": ".py",
   "mimetype": "text/x-python",
   "name": "python",
   "nbconvert_exporter": "python",
   "pygments_lexer": "ipython3",
   "version": "3.12.2"
  }
 },
 "nbformat": 4,
 "nbformat_minor": 2
}
